{
  "nbformat": 4,
  "nbformat_minor": 0,
  "metadata": {
    "colab": {
      "provenance": [],
      "authorship_tag": "ABX9TyNvRgh5pIr14ZZXp3HO6T4v",
      "include_colab_link": true
    },
    "kernelspec": {
      "name": "python3",
      "display_name": "Python 3"
    },
    "language_info": {
      "name": "python"
    }
  },
  "cells": [
    {
      "cell_type": "markdown",
      "metadata": {
        "id": "view-in-github",
        "colab_type": "text"
      },
      "source": [
        "<a href=\"https://colab.research.google.com/github/Arooj-Amjad/Python-Porfolio/blob/main/project_1_Band_Name_Generator.ipynb\" target=\"_parent\"><img src=\"https://colab.research.google.com/assets/colab-badge.svg\" alt=\"Open In Colab\"/></a>"
      ]
    },
    {
      "cell_type": "code",
      "execution_count": 1,
      "metadata": {
        "colab": {
          "base_uri": "https://localhost:8080/"
        },
        "id": "3AGAJVuc5ktY",
        "outputId": "eff4dcdf-2f00-49c3-9015-4ef9cb440951"
      },
      "outputs": [
        {
          "output_type": "stream",
          "name": "stdout",
          "text": [
            "Welcome to the Band Name Generator!\n",
            "What city did you grow up in ?\n",
            "Jhelum\n",
            "What's your pet's name ?\n",
            "Puffins\n",
            "Your band name could be Jhelum Puffins .\n"
          ]
        }
      ],
      "source": [
        "#1. Create a greeting for your program.\n",
        "print(\"Welcome to the Band Name Generator!\")\n",
        "#2. Ask the user for the city that they grew up in.\n",
        "city=input(\"What city did you grow up in ?\\n\")\n",
        "\n",
        "#3. Ask the user for the name of a pet.\n",
        "pet=input(\"What's your pet's name ?\\n\")\n",
        "#4. Combine the name of their city and pet and show them their band name.\n",
        "print(\"Your band name could be \" + city + \" \" + pet + \" .\")"
      ]
    }
  ]
}