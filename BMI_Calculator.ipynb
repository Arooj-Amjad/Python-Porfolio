{
  "nbformat": 4,
  "nbformat_minor": 0,
  "metadata": {
    "colab": {
      "provenance": [],
      "authorship_tag": "ABX9TyMku4iqdYfLhbnY0D9QzH64",
      "include_colab_link": true
    },
    "kernelspec": {
      "name": "python3",
      "display_name": "Python 3"
    },
    "language_info": {
      "name": "python"
    }
  },
  "cells": [
    {
      "cell_type": "markdown",
      "metadata": {
        "id": "view-in-github",
        "colab_type": "text"
      },
      "source": [
        "<a href=\"https://colab.research.google.com/github/Arooj-Amjad/Python-Porfolio/blob/main/BMI_Calculator.ipynb\" target=\"_parent\"><img src=\"https://colab.research.google.com/assets/colab-badge.svg\" alt=\"Open In Colab\"/></a>"
      ]
    },
    {
      "cell_type": "code",
      "execution_count": 1,
      "metadata": {
        "colab": {
          "base_uri": "https://localhost:8080/"
        },
        "id": "ruvneZ0Fmv7v",
        "outputId": "63c40cb7-2e5a-485d-901e-36e7d6a307d5"
      },
      "outputs": [
        {
          "output_type": "stream",
          "name": "stdout",
          "text": [
            "enter your height in m: 1.56\n",
            "enter your weight in kg: 52\n",
            "Your BMI is 21, you have a normal weight.\n"
          ]
        }
      ],
      "source": [
        "#BMI Calculator\n",
        "height = input(\"enter your height in m: \")\n",
        "weight = input(\"enter your weight in kg: \")\n",
        "\n",
        "\n",
        "BMI=float(weight)/(float(height)*float(height))\n",
        "#result=int(BMI)\n",
        "#print(str(result))\n",
        "\n",
        "bmi=int(round(BMI))\n",
        "\n",
        "if bmi < 18.5:\n",
        "    print(f\"Your BMI is {bmi}, you are underweight\")\n",
        "else:\n",
        "    if bmi <= 25:\n",
        "        print(f\"Your BMI is {bmi}, you have a normal weight.\")\n",
        "\n",
        "    elif bmi <=30:\n",
        "       print(f\"Your BMI is {bmi}, you are slightly overweight.\")\n",
        "\n",
        "    elif bmi <=35:\n",
        "        print(f\"Your BMI is {bmi}, you are obese.\")\n",
        "    else:\n",
        "        print(f\"Your BMI is {bmi}, you are clinically obese.\")"
      ]
    }
  ]
}