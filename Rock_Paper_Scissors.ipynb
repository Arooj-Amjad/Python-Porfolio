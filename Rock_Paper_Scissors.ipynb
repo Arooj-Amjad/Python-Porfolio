{
  "nbformat": 4,
  "nbformat_minor": 0,
  "metadata": {
    "colab": {
      "provenance": [],
      "authorship_tag": "ABX9TyO7xI47TksITy01ly2iSzh0",
      "include_colab_link": true
    },
    "kernelspec": {
      "name": "python3",
      "display_name": "Python 3"
    },
    "language_info": {
      "name": "python"
    }
  },
  "cells": [
    {
      "cell_type": "markdown",
      "metadata": {
        "id": "view-in-github",
        "colab_type": "text"
      },
      "source": [
        "<a href=\"https://colab.research.google.com/github/Arooj-Amjad/Python-Portfolio/blob/main/Rock_Paper_Scissors.ipynb\" target=\"_parent\"><img src=\"https://colab.research.google.com/assets/colab-badge.svg\" alt=\"Open In Colab\"/></a>"
      ]
    },
    {
      "cell_type": "code",
      "execution_count": null,
      "metadata": {
        "id": "3xBDZD9QqlJj"
      },
      "outputs": [],
      "source": [
        "import random\n",
        "rock = '''\n",
        "    _______\n",
        "---'   ____)\n",
        "      (_____)\n",
        "      (_____)\n",
        "      (____)\n",
        "---.__(___)\n",
        "'''\n",
        "\n",
        "paper = '''\n",
        "    _______\n",
        "---'   ____)____\n",
        "          ______)\n",
        "          _______)\n",
        "         _______)\n",
        "---.__________)\n",
        "'''\n",
        "\n",
        "scissors = '''\n",
        "    _______\n",
        "---'   ____)____\n",
        "          ______)\n",
        "       __________)\n",
        "      (____)\n",
        "---.__(___)\n",
        "'''"
      ]
    },
    {
      "cell_type": "code",
      "source": [
        "#Write your code below this line 👇\n",
        "print(\"What do you choose? Type 0 for Rock, 1 for Paper and 2 for Scissors.\")\n",
        "choice=input()\n",
        "\n",
        "if choice == \"0\":\n",
        "  print(rock)\n",
        "elif choice == \"1\":\n",
        "  print(paper)\n",
        "elif choice == \"2\":\n",
        "  print(scissors)\n",
        "else:\n",
        "  print(\"Invalid choice.\")\n",
        "\n",
        "computer_choice = random.randint(0,2)\n",
        "if computer_choice == 0:\n",
        "  print(\"Computer chose Rock\")\n",
        "elif computer_choice == 1:\n",
        "  print(\"Computer chose Paper\")\n",
        "elif computer_choice == 2:\n",
        "  print(\"Computer chose Scissors\")\n",
        "if choice == \"0\" and computer_choice == 2:\n",
        "  print(\"You win!\")\n",
        "elif choice == \"1\" and computer_choice == 0:\n",
        "  print(\"You win!\")\n",
        "elif choice == \"2\" and computer_choice == 1:\n",
        "  print(\"You win!\")\n",
        "else:\n",
        "  print(\"You lose!\")"
      ],
      "metadata": {
        "colab": {
          "base_uri": "https://localhost:8080/"
        },
        "id": "r4ZUcvFQqwgi",
        "outputId": "b16e02f2-de6f-40c5-f740-edcc5575c907"
      },
      "execution_count": null,
      "outputs": [
        {
          "output_type": "stream",
          "name": "stdout",
          "text": [
            "What do you choose? Type 0 for Rock, 1 for Paper and 2 for Scissors.\n",
            "0\n",
            "\n",
            "    _______\n",
            "---'   ____)\n",
            "      (_____)\n",
            "      (_____)\n",
            "      (____)\n",
            "---.__(___)\n",
            "\n",
            "Computer chose Scissors\n",
            "You win!\n"
          ]
        }
      ]
    }
  ]
}