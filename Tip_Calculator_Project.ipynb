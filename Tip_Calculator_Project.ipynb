{
  "nbformat": 4,
  "nbformat_minor": 0,
  "metadata": {
    "colab": {
      "provenance": [],
      "authorship_tag": "ABX9TyPfinxMbFkyTWyiFmLPMjfs",
      "include_colab_link": true
    },
    "kernelspec": {
      "name": "python3",
      "display_name": "Python 3"
    },
    "language_info": {
      "name": "python"
    }
  },
  "cells": [
    {
      "cell_type": "markdown",
      "metadata": {
        "id": "view-in-github",
        "colab_type": "text"
      },
      "source": [
        "<a href=\"https://colab.research.google.com/github/Arooj-Amjad/Python-Porfolio/blob/main/Tip_Calculator_Project.ipynb\" target=\"_parent\"><img src=\"https://colab.research.google.com/assets/colab-badge.svg\" alt=\"Open In Colab\"/></a>"
      ]
    },
    {
      "cell_type": "code",
      "execution_count": 1,
      "metadata": {
        "colab": {
          "base_uri": "https://localhost:8080/"
        },
        "id": "2jMutdp436NG",
        "outputId": "67edaae3-5f0b-4184-b22c-a1427dcb770c"
      },
      "outputs": [
        {
          "output_type": "stream",
          "name": "stdout",
          "text": [
            "Welcome to the tip calculator !\n",
            "What was the total Bill ? $178.95\n",
            "What percentage tip  would you like to give? 10, 12 or 15. 10\n",
            "How many people to split the bill? 2\n",
            "Each person should pay $98.42.\n"
          ]
        }
      ],
      "source": [
        "# Tgis is a calculator to split the bill between people at a resturant\n",
        "print(\"Welcome to the tip calculator !\")\n",
        "\n",
        "Bill=input(\"What was the total Bill ? $\")\n",
        "Percent=input(\"What percentage tip  would you like to give? 10, 12 or 15. \")\n",
        "People=input(\"How many people to split the bill? \")\n",
        "\n",
        "Total_percent=1+(int(Percent)/100)\n",
        "Total_bill=(float(Bill)/int(People))* Total_percent\n",
        "\n",
        "Rounded_bill=round(Total_bill,2)\n",
        "\n",
        "print(f\"Each person should pay ${Rounded_bill}.\")"
      ]
    }
  ]
}